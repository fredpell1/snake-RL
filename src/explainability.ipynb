{
 "cells": [
  {
   "attachments": {},
   "cell_type": "markdown",
   "metadata": {},
   "source": [
    "# Notebook for ML explainability \n",
    "\n",
    "This notebook serves as an aid for better understanding the \"decision process\" of the agent and visualize it."
   ]
  },
  {
   "cell_type": "code",
   "execution_count": 1,
   "metadata": {},
   "outputs": [],
   "source": [
    "import torch\n",
    "import numpy as np\n",
    "from utils.util import *\n",
    "import matplotlib.pyplot as plt\n",
    "from envs.snake import SnakeEnv\n",
    "from agents.q_agent import *"
   ]
  },
  {
   "cell_type": "code",
   "execution_count": 2,
   "metadata": {},
   "outputs": [],
   "source": [
    "action_to_direction = {\n",
    "            0: 'right',\n",
    "            1: 'down',\n",
    "            2: 'left',\n",
    "            3: 'up'\n",
    "        }"
   ]
  },
  {
   "cell_type": "code",
   "execution_count": 3,
   "metadata": {},
   "outputs": [],
   "source": [
    "def build_grid(observation, keep_target = False):\n",
    "    head = observation[\"agent\"]\n",
    "    target = observation[\"target\"]\n",
    "    body = observation[\"body\"]\n",
    "    grid = np.full((10, 10), -1.0)\n",
    "    grid[head[1], head[0]] += 2  if not any(np.array_equal(head , x) for x in body) else 0\n",
    "    print()\n",
    "    if np.all(head == target):\n",
    "        if keep_target:\n",
    "            grid[target[1], target[0]] += 3\n",
    "    else:\n",
    "        grid[target[1], target[0]] += 3\n",
    "\n",
    "    for part in body:\n",
    "        grid[part[1], part[0]] += 1    \n",
    "    return grid"
   ]
  },
  {
   "cell_type": "code",
   "execution_count": 20,
   "metadata": {},
   "outputs": [
    {
     "name": "stdout",
     "output_type": "stream",
     "text": [
      "\n"
     ]
    }
   ],
   "source": [
    "env = SnakeEnv('rgb_array', 10)\n",
    "agent, _ = load_config_file(DQNAgent, '../configs/DQN-CNN-V1.yaml', '../saved_agent/', False)\n",
    "observation,_,pixels = env.reset()\n",
    "action = agent.select_action(observation)\n",
    "grid = build_grid(observation)\n",
    "tensor_grid = torch.from_numpy(grid).float()"
   ]
  },
  {
   "cell_type": "code",
   "execution_count": 37,
   "metadata": {},
   "outputs": [
    {
     "name": "stdout",
     "output_type": "stream",
     "text": [
      "\n"
     ]
    }
   ],
   "source": [
    "observation, reward, target, terminated, info,pixels = env.step(action)\n",
    "grid = build_grid(observation)\n",
    "tensor_grid = torch.from_numpy(grid).float()\n",
    "if target:\n",
    "    env.eat_apple()"
   ]
  },
  {
   "cell_type": "code",
   "execution_count": 38,
   "metadata": {},
   "outputs": [
    {
     "data": {
      "text/plain": [
       "'up'"
      ]
     },
     "execution_count": 38,
     "metadata": {},
     "output_type": "execute_result"
    },
    {
     "data": {
      "image/png": "[encoded data removed]",
      "text/plain": [
       "<Figure size 640x480 with 3 Axes>"
      ]
     },
     "metadata": {},
     "output_type": "display_data"
    }
   ],
   "source": [
    "plt.subplot(1,2,1)\n",
    "plt.imshow(pixels)\n",
    "plt.subplot(1,2,2)\n",
    "plt.imshow(grid);\n",
    "plt.colorbar()\n",
    "action = agent.select_action(observation)\n",
    "action_to_direction[action]"
   ]
  },
  {
   "cell_type": "code",
   "execution_count": 10,
   "metadata": {},
   "outputs": [
    {
     "data": {
      "text/plain": [
       "(array([7, 3]),\n",
       " array([[7, 4],\n",
       "        [7, 3]]),\n",
       " True)"
      ]
     },
     "execution_count": 10,
     "metadata": {},
     "output_type": "execute_result"
    }
   ],
   "source": [
    "head = observation['agent']\n",
    "body = observation['body']\n",
    "head, body, any(np.array_equal(head,x) for x in body)"
   ]
  },
  {
   "cell_type": "code",
   "execution_count": 23,
   "metadata": {},
   "outputs": [
    {
     "data": {
      "text/plain": [
       "True"
      ]
     },
     "execution_count": 23,
     "metadata": {},
     "output_type": "execute_result"
    }
   ],
   "source": [
    "any(np.array_equal([6,5], x) for x in [[6,5], [7,2]])"
   ]
  }
 ],
 "metadata": {
  "kernelspec": {
   "display_name": ".venv",
   "language": "python",
   "name": "python3"
  },
  "language_info": {
   "codemirror_mode": {
    "name": "ipython",
    "version": 3
   },
   "file_extension": ".py",
   "mimetype": "text/x-python",
   "name": "python",
   "nbconvert_exporter": "python",
   "pygments_lexer": "ipython3",
   "version": "3.9.5"
  },
  "orig_nbformat": 4,
  "vscode": {
   "interpreter": {
    "hash": "6b3085fd053f24be64cb5b3d2873f3a38538f5df2ffb335f21f4ae10425bf726"
   }
  }
 },
 "nbformat": 4,
 "nbformat_minor": 2
}
